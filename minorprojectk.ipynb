{
  "cells": [
    {
      "cell_type": "code",
      "execution_count": null,
      "id": "68b1376e",
      "metadata": {
        "id": "68b1376e"
      },
      "outputs": [],
      "source": [
        ""
      ]
    },
    {
      "cell_type": "code",
      "source": [
        ""
      ],
      "metadata": {
        "id": "ImNdqOTjatdf"
      },
      "id": "ImNdqOTjatdf",
      "execution_count": null,
      "outputs": []
    },
    {
      "cell_type": "code",
      "source": [
        ""
      ],
      "metadata": {
        "id": "u4DTi0gSaxJ1"
      },
      "id": "u4DTi0gSaxJ1",
      "execution_count": null,
      "outputs": []
    },
    {
      "cell_type": "code",
      "source": [
        "pip install tflearn"
      ],
      "metadata": {
        "id": "pm2tNrzWVsww",
        "colab": {
          "base_uri": "https://localhost:8080/"
        },
        "outputId": "33a61a3b-0851-458d-a731-27fa04603267"
      },
      "id": "pm2tNrzWVsww",
      "execution_count": null,
      "outputs": [
        {
          "output_type": "stream",
          "name": "stdout",
          "text": [
            "Collecting tflearn\n",
            "  Downloading tflearn-0.5.0.tar.gz (107 kB)\n",
            "\u001b[?25l\r\u001b[K     |███                             | 10 kB 21.7 MB/s eta 0:00:01\r\u001b[K     |██████                          | 20 kB 20.5 MB/s eta 0:00:01\r\u001b[K     |█████████▏                      | 30 kB 10.7 MB/s eta 0:00:01\r\u001b[K     |████████████▏                   | 40 kB 4.4 MB/s eta 0:00:01\r\u001b[K     |███████████████▎                | 51 kB 4.5 MB/s eta 0:00:01\r\u001b[K     |██████████████████▎             | 61 kB 5.3 MB/s eta 0:00:01\r\u001b[K     |█████████████████████▍          | 71 kB 5.4 MB/s eta 0:00:01\r\u001b[K     |████████████████████████▍       | 81 kB 5.5 MB/s eta 0:00:01\r\u001b[K     |███████████████████████████▌    | 92 kB 6.1 MB/s eta 0:00:01\r\u001b[K     |██████████████████████████████▌ | 102 kB 5.3 MB/s eta 0:00:01\r\u001b[K     |████████████████████████████████| 107 kB 5.3 MB/s \n",
            "\u001b[?25hRequirement already satisfied: numpy in /usr/local/lib/python3.7/dist-packages (from tflearn) (1.21.6)\n",
            "Requirement already satisfied: six in /usr/local/lib/python3.7/dist-packages (from tflearn) (1.15.0)\n",
            "Requirement already satisfied: Pillow in /usr/local/lib/python3.7/dist-packages (from tflearn) (7.1.2)\n",
            "Building wheels for collected packages: tflearn\n",
            "  Building wheel for tflearn (setup.py) ... \u001b[?25l\u001b[?25hdone\n",
            "  Created wheel for tflearn: filename=tflearn-0.5.0-py3-none-any.whl size=127299 sha256=299d03797089d49b2c19fe772662af4174c569ec6afa5a56233fbe19ff0af75f\n",
            "  Stored in directory: /root/.cache/pip/wheels/5f/14/2e/1d8e28cc47a5a931a2fb82438c9e37ef9246cc6a3774520271\n",
            "Successfully built tflearn\n",
            "Installing collected packages: tflearn\n",
            "Successfully installed tflearn-0.5.0\n"
          ]
        }
      ]
    },
    {
      "cell_type": "code",
      "source": [
        "from PIL import Image\n",
        "from sklearn.utils import class_weight\n",
        "from imageio import imread\n",
        "from joblib import Parallel, delayed\n",
        "import tflearn as tf\n",
        "from tflearn.data_utils import build_hdf5_image_dataset\n",
        "from scipy.ndimage import rotate\n",
        "import h5py\n",
        "import numpy as np \n",
        "import pandas as pd\n",
        "%matplotlib inline\n",
        "from IPython.display import clear_output\n",
        "pd.options.mode.chained_assignment = None\n",
        "from keras.layers import Input, merge\n",
        "from keras.layers import Convolution2D , concatenate ,Conv2D,Dense\n",
        "from keras.layers import Activation,Dropout, GlobalAveragePooling2D,MaxPooling2D\n",
        "from keras.models import Model\n",
        "from tensorflow.keras.optimizers import Adam ,SGD,RMSprop\n",
        "from tensorflow.keras.utils import  to_categorical\n",
        "import tensorflow as tf\n",
        "import numpy as np\n",
        "# import matplotlib.pyplot as plt\n",
        "# print(matplotlib.__file__)\n",
        "from keras.optimizers import *\n",
        "from keras.models import Model\n",
        "from keras.layers import *\n",
        "from keras.activations import *\n",
        "from keras.callbacks import *"
      ],
      "metadata": {
        "id": "A7gkuqhbVuyj",
        "colab": {
          "base_uri": "https://localhost:8080/"
        },
        "outputId": "8b0bc9c1-07d6-46d0-e8f5-a0ac29e91bed"
      },
      "id": "A7gkuqhbVuyj",
      "execution_count": null,
      "outputs": [
        {
          "output_type": "stream",
          "name": "stdout",
          "text": [
            "WARNING:tensorflow:From /usr/local/lib/python3.7/dist-packages/tensorflow/python/compat/v2_compat.py:107: disable_resource_variables (from tensorflow.python.ops.variable_scope) is deprecated and will be removed in a future version.\n",
            "Instructions for updating:\n",
            "non-resource variables are not supported in the long term\n"
          ]
        }
      ]
    },
    {
      "cell_type": "code",
      "source": [
        "from google.colab import drive\n",
        "drive.mount('/content/drive')"
      ],
      "metadata": {
        "colab": {
          "base_uri": "https://localhost:8080/"
        },
        "id": "SUouXpwUa9Mw",
        "outputId": "8bed71d2-9051-4c03-f38d-181d225bb8dc"
      },
      "id": "SUouXpwUa9Mw",
      "execution_count": null,
      "outputs": [
        {
          "output_type": "stream",
          "name": "stdout",
          "text": [
            "Mounted at /content/drive\n"
          ]
        }
      ]
    },
    {
      "cell_type": "code",
      "execution_count": null,
      "id": "23f0b3ed",
      "metadata": {
        "id": "23f0b3ed"
      },
      "outputs": [],
      "source": [
        "def fire_module(input_layer, squeeze =16 , expansion =32):\n",
        "\n",
        "# a definition for fire module et.al https://github.com/rcmalli/keras-squeezenet/\n",
        "# inspiration out = tf.map_fn(lambda x: threshold_binarize(x, threshold=0.5) , out, dtype=tf.int64)\n",
        "# squeezing using 1x1 kernel and expansion with 1x1 and 3x3. Concatenate the output to get best result.\n",
        "    fire_sq =   Conv2D(squeeze,1,1,activation= 'relu',kernel_initializer='glorot_normal')(input_layer)\n",
        "    model.add(BatchNormalization())\n",
        "    fire_exp1 = Conv2D(expansion ,kernel_size=(1,1),activation='relu',padding='valid')(fire_sq)\n",
        "    model.add(BatchNormalization())\n",
        "    fire_exp2 = Conv2D(expansion ,kernel_size=(3,3),activation='relu',padding='same')(fire_sq)\n",
        "    model.add(BatchNormalization())\n",
        "    out = concatenate([fire_exp1,fire_exp2], axis=3)\n",
        "\n",
        "    return out\n",
        "# y_score = []\n",
        "def build_squeezenet(input_shape):\n",
        "    \n",
        "    input_layer = Input(shape = input_shape)\n",
        "    \n",
        "    out = Conv2D(96, kernel_size =(3, 3), activation='relu')(input_layer)\n",
        "    out = MaxPooling2D(pool_size=2, strides=None, padding='valid')(out)\n",
        "    # no mxpooling done since small images \n",
        "    out = fire_module(out,squeeze =16 , expansion =64)\n",
        "    out = fire_module(out,squeeze = 16 , expansion=64)\n",
        "    \n",
        "    out = fire_module(out,squeeze= 32,expansion = 128)\n",
        "    out = fire_module(out,squeeze= 32,expansion = 128)\n",
        "    \n",
        "    out = fire_module(out , squeeze = 48 ,expansion=192)\n",
        "    out = fire_module(out,squeeze = 48 , expansion = 192)\n",
        "    \n",
        "    out = fire_module(out,squeeze = 64 , expansion = 256)\n",
        "    out = fire_module(out,squeeze = 64 , expansion = 256)\n",
        "    \n",
        "    out = Dropout(0.5)(out)\n",
        "    out = Conv2D(32,kernel_size=(1,1),padding='valid',activation='relu')(out)\n",
        "    out = GlobalAveragePooling2D()(out)\n",
        "    out= Dense(1024, activation= \"relu\")(out)\n",
        "    out= Dense(512, activation= \"relu\")(out)\n",
        "    out= Dense(128, activation= \"relu\")(out)\n",
        "    out= Dense(64, activation= \"relu\")(out)\n",
        "    out= Dense(32, activation= \"relu\")(out)\n",
        "    out= Dense(16, activation= \"relu\")(out)\n",
        "    #out= Dense(8, activation= \"relu\")(out)\n",
        "    out = Dense(2, activation=\"softmax\")(out)\n",
        "#     y_score =out[:,]   \n",
        "    model = Model(input_layer, out, name='squeezenet')\n",
        "    return model \n",
        "#1024, 512, flatten, "
      ]
    },
    {
      "cell_type": "code",
      "source": [
        "pip install split-folders"
      ],
      "metadata": {
        "colab": {
          "base_uri": "https://localhost:8080/"
        },
        "id": "zlFquufabGNU",
        "outputId": "4ebcbfaa-9531-433c-d75e-f2b9f1e1b530"
      },
      "id": "zlFquufabGNU",
      "execution_count": null,
      "outputs": [
        {
          "output_type": "stream",
          "name": "stdout",
          "text": [
            "Collecting split-folders\n",
            "  Downloading split_folders-0.5.1-py3-none-any.whl (8.4 kB)\n",
            "Installing collected packages: split-folders\n",
            "Successfully installed split-folders-0.5.1\n"
          ]
        }
      ]
    },
    {
      "cell_type": "code",
      "execution_count": null,
      "id": "85abcb9d",
      "metadata": {
        "id": "85abcb9d",
        "outputId": "1eec0a01-ca1f-469c-a89e-c15410fc1ebb",
        "colab": {
          "base_uri": "https://localhost:8080/"
        }
      },
      "outputs": [
        {
          "output_type": "stream",
          "name": "stderr",
          "text": [
            "Copying files: 1017 files [00:03, 272.86 files/s]\n"
          ]
        },
        {
          "output_type": "stream",
          "name": "stdout",
          "text": [
            "Found 813 images belonging to 2 classes.\n",
            "Found 101 images belonging to 2 classes.\n",
            "Found 103 images belonging to 2 classes.\n"
          ]
        }
      ],
      "source": [
        "import splitfolders\n",
        "from keras.preprocessing.image import ImageDataGenerator\n",
        "splitfolders.ratio('/content/drive/MyDrive/lidc', output=\"output\", seed=1337, ratio=(0.8, 0.1,0.1))\n",
        "# Normalize training and validation data in the range of 0 to 1\n",
        "train_datagen = ImageDataGenerator(rescale=1./255)\n",
        "validation_datagen = ImageDataGenerator(rescale=1./255)\n",
        "test_datagen = ImageDataGenerator(rescale=1./255)\n",
        "# Read the training sample and set the batch size\n",
        "train_generator = train_datagen.flow_from_directory(\n",
        " 'output/train',\n",
        " target_size=(224,224),\n",
        " batch_size=16,\n",
        " seed=100,\n",
        " color_mode= 'grayscale',\n",
        " class_mode = 'binary',\n",
        "shuffle=True)\n",
        "# Read Validation data from directory and define target size with batch size\n",
        "validation_generator = validation_datagen.flow_from_directory(\n",
        " 'output/val',\n",
        " target_size=(224,224),\n",
        " batch_size=16,\n",
        " seed=1000,\n",
        " color_mode= 'grayscale',\n",
        " class_mode = 'binary',\n",
        " shuffle=False)\n",
        "test_generator = test_datagen.flow_from_directory(\n",
        " 'output/test',\n",
        " target_size=(224, 224),\n",
        " batch_size=16,\n",
        " seed=500,\n",
        " color_mode= 'grayscale',\n",
        " class_mode = 'binary',\n",
        " shuffle=False)\n",
        "\n",
        "model_dw = build_squeezenet(input_shape= (224,224,1))\n",
        "\n",
        "sgd = SGD(learning_rate=0.01, decay=1e-6, momentum=0.9, nesterov=True)\n",
        "#adam= Adam(lr=0.0001)\n",
        "model_dw.compile(\n",
        "    optimizer=sgd, loss='sparse_categorical_crossentropy',\n",
        "    metrics=['accuracy'])\n",
        "\n",
        "# weights = class_weight.compute_class_weight('balanced',\n",
        "#                                             np.unique(val_labels[:,0]) ,\n",
        "#                                             val_labels[:,0])\n",
        "\n",
        "#wt = np.array([ 0.4,0.6])\n",
        "#model_dw.summary()"
      ]
    },
    {
      "cell_type": "code",
      "source": [
        "CONV1_NUM_FILTERS = 16\n",
        "CONV1_KERNEL_SIZE = [3, 3]\n",
        "CONV1_STRIDE = 1\n",
        "CONV1_PADDING = 'SAME' #with zero padding\n",
        "CONV1_ACTIV_FUNC = tf.nn.relu\n",
        "POOL1_FILTER_SIZE = [2, 2]\n",
        "POOL1_STRIDE = 2\n",
        "POOL1_PADDING = 'SAME'\n",
        "\n",
        "CONV2_NUM_FILTERS = 32\n",
        "CONV2_KERNEL_SIZE = [5, 5]\n",
        "CONV2_STRIDE = 1\n",
        "CONV2_PADDING = 'SAME'\n",
        "CONV2_ACTIV_FUNC = tf.nn.relu\n",
        "POOL2_FILTER_SIZE = [2, 2]\n",
        "POOL2_STRIDE = 2\n",
        "POOL2_PADDING = 'SAME'\n",
        "\n",
        "CONV3_NUM_FILTERS = 64\n",
        "CONV3_KERNEL_SIZE = [7, 7]\n",
        "CONV3_STRIDE = 1\n",
        "CONV3_PADDING = 'SAME'\n",
        "CONV3_ACTIV_FUNC = tf.nn.relu\n",
        "POOL3_FILTER_SIZE = [2, 2]\n",
        "POOL3_STRIDE = 2\n",
        "POOL3_PADDING = 'SAME'\n",
        "CONV4_NUM_FILTERS = 64\n",
        "CONV4_KERNEL_SIZE = [7, 7]\n",
        "CONV4_STRIDE = 1\n",
        "CONV4_PADDING = 'SAME'\n",
        "CONV4_ACTIV_FUNC = tf.nn.relu\n",
        "POOL4_FILTER_SIZE = [2, 2]\n",
        "POOL4_STRIDE = 2\n",
        "POOL4_PADDING = 'SAME'\n",
        "FC1_NUM_NEURONS = 1024\n",
        "FC1_ACTIV_FUNC = tf.nn.relu\n",
        "def modrun():\n",
        "\n",
        "        input_shape = (224,224,1)\n",
        "        \n",
        "        model = Sequential()\n",
        "        img_width, img_height = 224, 224\n",
        "        \n",
        "        #convolution layer 1\n",
        "        model.add(Conv2D(CONV1_NUM_FILTERS, kernel_size=(CONV1_KERNEL_SIZE[0],CONV1_KERNEL_SIZE[1]), strides=(1, 1), padding = 'same',\n",
        "                 activation='relu',data_format=\"channels_last\"))\n",
        "      \n",
        "        model.add(MaxPooling2D(pool_size=(2, 2), strides=(2,2),padding = 'same'))\n",
        "        \n",
        "        #convolution layer 2\n",
        "        model.add(Conv2D(CONV2_NUM_FILTERS, kernel_size=(CONV2_KERNEL_SIZE[0],CONV2_KERNEL_SIZE[1]), strides=(1, 1), padding = 'same',\n",
        "                 activation='relu'))        \n",
        "\n",
        "        model.add(MaxPooling2D(pool_size=(2, 2), strides=(2, 2),padding = 'same'))\n",
        "\n",
        "        #convolution layer 3\n",
        "        model.add(Conv2D(CONV3_NUM_FILTERS, kernel_size=(CONV3_KERNEL_SIZE[0],CONV3_KERNEL_SIZE[1]), strides=(1, 1), padding = 'same',\n",
        "                 activation='relu'))        \n",
        "\n",
        "        model.add(MaxPooling2D(pool_size=(2, 2), strides=(2,2),padding = 'same'))\n",
        "                \n",
        "        \n",
        "        # densely connected layer\n",
        "        # image size has been reduced to 10x10 so we will add a fully-connected layer with 1024 neurons\n",
        "        model.add(Flatten())\n",
        "        \n",
        "        model.add(Dense(1024, activation='relu'))\n",
        "        model.add(Dropout(0.2))\n",
        "\n",
        "        # readout layer\n",
        "        model.add(Dense(1))\n",
        "        \n",
        "        model.add(Activation('sigmoid'))\n",
        "        \n",
        "\n",
        "        model.compile(loss='binary_crossentropy', # or categorical_crossentropy\n",
        "                      optimizer='Adam',\n",
        "                      metrics=['accuracy']) \n",
        "\n",
        "        return model\n",
        "model = modrun()\n",
        "epochs = 10\n",
        "batch_size = 300\n",
        "        \n",
        "#fitting the model with train data and validating on validation data\n",
        "history=model.fit(train_generator, \n",
        "                        epochs=10,\n",
        "                        verbose=1,\n",
        "                        validation_data=validation_generator)"
      ],
      "metadata": {
        "colab": {
          "base_uri": "https://localhost:8080/"
        },
        "id": "4qRDMSGPsemh",
        "outputId": "dc7fff02-e6ee-4c18-8650-b744fefbd6f1"
      },
      "id": "4qRDMSGPsemh",
      "execution_count": null,
      "outputs": [
        {
          "output_type": "stream",
          "name": "stdout",
          "text": [
            "Epoch 1/10\n",
            "51/51 [==============================] - ETA: 0s - batch: 25.0000 - size: 15.9412 - loss: 0.7542 - acc: 0.4969"
          ]
        },
        {
          "output_type": "stream",
          "name": "stderr",
          "text": [
            "/usr/local/lib/python3.7/dist-packages/keras/engine/training_v1.py:2057: UserWarning: `Model.state_updates` will be removed in a future version. This property should not be used in TensorFlow 2.0, as `updates` are applied automatically.\n",
            "  updates = self.state_updates\n"
          ]
        },
        {
          "output_type": "stream",
          "name": "stdout",
          "text": [
            "\b\b\b\b\b\b\b\b\b\b\b\b\b\b\b\b\b\b\b\b\b\b\b\b\b\b\b\b\b\b\b\b\b\b\b\b\b\b\b\b\b\b\b\b\b\b\b\b\b\b\b\b\b\b\b\b\b\b\b\b\b\b\b\b\b\b\b\b\b\b\b\b\b\b\b\b\b\b\b\b\b\b\b\b\b\b\b\b\b\b\b\b\b\b\b\b\b\b\b\b\b\b\b\b\b\b\b\b\b\b\r51/51 [==============================] - 5s 72ms/step - batch: 25.0000 - size: 15.9412 - loss: 0.7542 - acc: 0.4969 - val_loss: 0.6912 - val_acc: 0.5941\n",
            "Epoch 2/10\n",
            "51/51 [==============================] - 3s 67ms/step - batch: 25.0000 - size: 15.9412 - loss: 0.6816 - acc: 0.5830 - val_loss: 0.6962 - val_acc: 0.5842\n",
            "Epoch 3/10\n",
            "51/51 [==============================] - 3s 66ms/step - batch: 25.0000 - size: 15.9412 - loss: 0.6626 - acc: 0.6138 - val_loss: 0.6332 - val_acc: 0.6535\n",
            "Epoch 4/10\n",
            "51/51 [==============================] - 3s 65ms/step - batch: 25.0000 - size: 15.9412 - loss: 0.5792 - acc: 0.6790 - val_loss: 0.6222 - val_acc: 0.6733\n",
            "Epoch 5/10\n",
            "51/51 [==============================] - 3s 65ms/step - batch: 25.0000 - size: 15.9412 - loss: 0.4764 - acc: 0.7368 - val_loss: 0.8649 - val_acc: 0.6535\n",
            "Epoch 6/10\n",
            "51/51 [==============================] - 3s 66ms/step - batch: 25.0000 - size: 15.9412 - loss: 0.3899 - acc: 0.7774 - val_loss: 0.7824 - val_acc: 0.7525\n",
            "Epoch 7/10\n",
            "51/51 [==============================] - 3s 64ms/step - batch: 25.0000 - size: 15.9412 - loss: 0.3020 - acc: 0.8413 - val_loss: 0.7534 - val_acc: 0.6733\n",
            "Epoch 8/10\n",
            "51/51 [==============================] - 3s 66ms/step - batch: 25.0000 - size: 15.9412 - loss: 0.2344 - acc: 0.8979 - val_loss: 0.8264 - val_acc: 0.7327\n",
            "Epoch 9/10\n",
            "51/51 [==============================] - 3s 65ms/step - batch: 25.0000 - size: 15.9412 - loss: 0.1545 - acc: 0.9385 - val_loss: 1.0104 - val_acc: 0.7327\n",
            "Epoch 10/10\n",
            "51/51 [==============================] - 3s 64ms/step - batch: 25.0000 - size: 15.9412 - loss: 0.1092 - acc: 0.9582 - val_loss: 1.2744 - val_acc: 0.7228\n"
          ]
        }
      ]
    },
    {
      "cell_type": "code",
      "execution_count": null,
      "id": "25099754",
      "metadata": {
        "id": "25099754",
        "colab": {
          "base_uri": "https://localhost:8080/",
          "height": 77
        },
        "outputId": "0baad541-71aa-4a2b-f8b4-ca5bf3e27408"
      },
      "outputs": [
        {
          "output_type": "execute_result",
          "data": {
            "text/plain": [
              "<IPython.core.display.Image object>"
            ],
            "image/png": "[encoded data removed]"
          },
          "metadata": {},
          "execution_count": 27
        }
      ],
      "source": [
        "import keras\n",
        "import pydot\n",
        "import pydotplus\n",
        "from pydotplus import graphviz\n",
        "from keras.utils.vis_utils import plot_model\n",
        "from keras.utils.vis_utils import model_to_dot\n",
        "keras.utils.vis_utils.pydot = pydot\n",
        "plot_model(\n",
        "    model,\n",
        "    to_file='model.png',\n",
        "    show_shapes=False,\n",
        "    show_dtype=False,\n",
        "    show_layer_names=True,\n",
        "    rankdir='TB',\n",
        "    expand_nested=False,\n",
        "    dpi=96,\n",
        "    layer_range=None,\n",
        "    show_layer_activations=False\n",
        ")"
      ]
    },
    {
      "cell_type": "code",
      "execution_count": null,
      "id": "a938f0eb",
      "metadata": {
        "id": "a938f0eb",
        "colab": {
          "base_uri": "https://localhost:8080/",
          "height": 563
        },
        "outputId": "ae9a7c57-e51d-4363-c848-c31529ff1783"
      },
      "outputs": [
        {
          "output_type": "display_data",
          "data": {
            "text/plain": [
              "<Figure size 432x288 with 1 Axes>"
            ],
            "image/png": "[encoded data removed]"
          },
          "metadata": {
            "needs_background": "light"
          }
        },
        {
          "output_type": "display_data",
          "data": {
            "text/plain": [
              "<Figure size 432x288 with 0 Axes>"
            ]
          },
          "metadata": {}
        },
        {
          "output_type": "display_data",
          "data": {
            "text/plain": [
              "<Figure size 432x288 with 1 Axes>"
            ],
            "image/png": "[encoded data removed]"
          },
          "metadata": {
            "needs_background": "light"
          }
        }
      ],
      "source": [
        "train_acc = history.history['acc']\n",
        "val_acc = history.history['val_acc']\n",
        "train_loss = history.history['loss']\n",
        "val_loss = history.history['val_loss']\n",
        "\n",
        "import matplotlib.pyplot as plt\n",
        "epochs = range(len(train_acc)) \n",
        "plt.plot(epochs, train_acc, 'b', label='Training Accuracy')\n",
        "plt.plot(epochs, val_acc, 'r', label='Validation Accuracy')\n",
        "plt.title('Training and Validation Accuracy')\n",
        "plt.legend()\n",
        "plt.figure()\n",
        "plt.show()\n",
        "\n",
        "plt.plot(epochs, train_loss, 'b', label='Training Loss')\n",
        "plt.plot(epochs, val_loss, 'r', label='Validation Loss')\n",
        "plt.title('Training and Validation Loss')\n",
        "plt.legend()\n",
        "plt.show()"
      ]
    },
    {
      "cell_type": "code",
      "execution_count": null,
      "id": "902492d9",
      "metadata": {
        "id": "902492d9",
        "colab": {
          "base_uri": "https://localhost:8080/",
          "height": 1000
        },
        "outputId": "67dab1ec-4937-4db5-e51c-206e275d1511"
      },
      "outputs": [
        {
          "output_type": "stream",
          "name": "stdout",
          "text": [
            "[0 0 0 0 0 0 0 0 0 0 0 0 0 0 0 0 0 0 0 0 0 0 0 0 0 0 0 0 0 0 0 0 0 0 0 0 0\n",
            " 0 0 0 0 0 0 0 0 0 0 0 0 0 0 0 0 1 1 1 1 1 1 1 1 1 1 1 1 1 1 1 1 1 1 1 1 1\n",
            " 1 1 1 1 1 1 1 1 1 1 1 1 1 1 1 1 1 1 1 1 1 1 1 1 1 1 1 1 1] [[[ 21]\n",
            "  [ 22]\n",
            "  [ 22]\n",
            "  ...\n",
            "  [  0]\n",
            "  [  0]\n",
            "  [  0]]\n",
            "\n",
            " [[  0]\n",
            "  [  0]\n",
            "  [  0]\n",
            "  ...\n",
            "  [  0]\n",
            "  [  0]\n",
            "  [  0]]\n",
            "\n",
            " [[ 92]\n",
            "  [ 91]\n",
            "  [ 91]\n",
            "  ...\n",
            "  [  0]\n",
            "  [  0]\n",
            "  [  0]]\n",
            "\n",
            " ...\n",
            "\n",
            " [[ 44]\n",
            "  [ 44]\n",
            "  [ 43]\n",
            "  ...\n",
            "  [221]\n",
            "  [220]\n",
            "  [220]]\n",
            "\n",
            " [[  0]\n",
            "  [  0]\n",
            "  [  0]\n",
            "  ...\n",
            "  [  0]\n",
            "  [  0]\n",
            "  [  0]]\n",
            "\n",
            " [[  0]\n",
            "  [  0]\n",
            "  [  0]\n",
            "  ...\n",
            "  [149]\n",
            "  [148]\n",
            "  [146]]]\n",
            "Confusion Matrix\n"
          ]
        },
        {
          "output_type": "error",
          "ename": "ValueError",
          "evalue": "ignored",
          "traceback": [
            "\u001b[0;31m---------------------------------------------------------------------------\u001b[0m",
            "\u001b[0;31mValueError\u001b[0m                                Traceback (most recent call last)",
            "\u001b[0;32m<ipython-input-32-4a983d43fbd4>\u001b[0m in \u001b[0;36m<module>\u001b[0;34m()\u001b[0m\n\u001b[1;32m     41\u001b[0m \u001b[0mprint\u001b[0m\u001b[0;34m(\u001b[0m\u001b[0mtest_generator\u001b[0m\u001b[0;34m.\u001b[0m\u001b[0mclasses\u001b[0m\u001b[0;34m,\u001b[0m\u001b[0my_pred\u001b[0m\u001b[0;34m)\u001b[0m\u001b[0;34m\u001b[0m\u001b[0;34m\u001b[0m\u001b[0m\n\u001b[1;32m     42\u001b[0m \u001b[0mprint\u001b[0m\u001b[0;34m(\u001b[0m\u001b[0;34m'Confusion Matrix'\u001b[0m\u001b[0;34m)\u001b[0m\u001b[0;34m\u001b[0m\u001b[0;34m\u001b[0m\u001b[0m\n\u001b[0;32m---> 43\u001b[0;31m \u001b[0mcm\u001b[0m \u001b[0;34m=\u001b[0m \u001b[0mconfusion_matrix\u001b[0m\u001b[0;34m(\u001b[0m\u001b[0mtest_generator\u001b[0m\u001b[0;34m.\u001b[0m\u001b[0mclasses\u001b[0m\u001b[0;34m,\u001b[0m \u001b[0my_pred\u001b[0m\u001b[0;34m)\u001b[0m\u001b[0;34m\u001b[0m\u001b[0;34m\u001b[0m\u001b[0m\n\u001b[0m\u001b[1;32m     44\u001b[0m \u001b[0mplot_confusion_matrix\u001b[0m\u001b[0;34m(\u001b[0m\u001b[0mcm\u001b[0m\u001b[0;34m,\u001b[0m \u001b[0mtarget_names\u001b[0m\u001b[0;34m,\u001b[0m \u001b[0mtitle\u001b[0m\u001b[0;34m=\u001b[0m\u001b[0;34m'Confusion Matrix'\u001b[0m\u001b[0;34m)\u001b[0m\u001b[0;34m\u001b[0m\u001b[0;34m\u001b[0m\u001b[0m\n\u001b[1;32m     45\u001b[0m \u001b[0;31m#Print Classification Report\u001b[0m\u001b[0;34m\u001b[0m\u001b[0;34m\u001b[0m\u001b[0;34m\u001b[0m\u001b[0m\n",
            "\u001b[0;32m/usr/local/lib/python3.7/dist-packages/sklearn/metrics/_classification.py\u001b[0m in \u001b[0;36mconfusion_matrix\u001b[0;34m(y_true, y_pred, labels, sample_weight, normalize)\u001b[0m\n\u001b[1;32m    305\u001b[0m     \u001b[0;34m(\u001b[0m\u001b[0;36m0\u001b[0m\u001b[0;34m,\u001b[0m \u001b[0;36m2\u001b[0m\u001b[0;34m,\u001b[0m \u001b[0;36m1\u001b[0m\u001b[0;34m,\u001b[0m \u001b[0;36m1\u001b[0m\u001b[0;34m)\u001b[0m\u001b[0;34m\u001b[0m\u001b[0;34m\u001b[0m\u001b[0m\n\u001b[1;32m    306\u001b[0m     \"\"\"\n\u001b[0;32m--> 307\u001b[0;31m     \u001b[0my_type\u001b[0m\u001b[0;34m,\u001b[0m \u001b[0my_true\u001b[0m\u001b[0;34m,\u001b[0m \u001b[0my_pred\u001b[0m \u001b[0;34m=\u001b[0m \u001b[0m_check_targets\u001b[0m\u001b[0;34m(\u001b[0m\u001b[0my_true\u001b[0m\u001b[0;34m,\u001b[0m \u001b[0my_pred\u001b[0m\u001b[0;34m)\u001b[0m\u001b[0;34m\u001b[0m\u001b[0;34m\u001b[0m\u001b[0m\n\u001b[0m\u001b[1;32m    308\u001b[0m     \u001b[0;32mif\u001b[0m \u001b[0my_type\u001b[0m \u001b[0;32mnot\u001b[0m \u001b[0;32min\u001b[0m \u001b[0;34m(\u001b[0m\u001b[0;34m\"binary\"\u001b[0m\u001b[0;34m,\u001b[0m \u001b[0;34m\"multiclass\"\u001b[0m\u001b[0;34m)\u001b[0m\u001b[0;34m:\u001b[0m\u001b[0;34m\u001b[0m\u001b[0;34m\u001b[0m\u001b[0m\n\u001b[1;32m    309\u001b[0m         \u001b[0;32mraise\u001b[0m \u001b[0mValueError\u001b[0m\u001b[0;34m(\u001b[0m\u001b[0;34m\"%s is not supported\"\u001b[0m \u001b[0;34m%\u001b[0m \u001b[0my_type\u001b[0m\u001b[0;34m)\u001b[0m\u001b[0;34m\u001b[0m\u001b[0;34m\u001b[0m\u001b[0m\n",
            "\u001b[0;32m/usr/local/lib/python3.7/dist-packages/sklearn/metrics/_classification.py\u001b[0m in \u001b[0;36m_check_targets\u001b[0;34m(y_true, y_pred)\u001b[0m\n\u001b[1;32m     93\u001b[0m         raise ValueError(\n\u001b[1;32m     94\u001b[0m             \"Classification metrics can't handle a mix of {0} and {1} targets\".format(\n\u001b[0;32m---> 95\u001b[0;31m                 \u001b[0mtype_true\u001b[0m\u001b[0;34m,\u001b[0m \u001b[0mtype_pred\u001b[0m\u001b[0;34m\u001b[0m\u001b[0;34m\u001b[0m\u001b[0m\n\u001b[0m\u001b[1;32m     96\u001b[0m             )\n\u001b[1;32m     97\u001b[0m         )\n",
            "\u001b[0;31mValueError\u001b[0m: Classification metrics can't handle a mix of binary and unknown targets"
          ]
        }
      ],
      "source": [
        "def plot_confusion_matrix(cm, classes, normalize=True, title='Confusion matrix', cmap=plt.cm.Blues):\n",
        "    \"\"\"\n",
        "    This function prints and plots the confusion matrix.\n",
        "    Normalization can be applied by setting `normalize=True`.\n",
        "    \"\"\"\n",
        "    plt.figure(figsize=(5,5))\n",
        "    plt.imshow(cm, interpolation='nearest', cmap=cmap)\n",
        "    plt.title(title)\n",
        "    plt.colorbar()\n",
        "    tick_marks = np.arange(len(classes))\n",
        "    plt.xticks(tick_marks, classes, rotation=45)\n",
        "    plt.yticks(tick_marks, classes)\n",
        "    if normalize:\n",
        "        cm = cm.astype('float') / cm.sum(axis=1)[:, np.newaxis]\n",
        "        cm = np.around(cm, decimals=2)\n",
        "        cm[np.isnan(cm)] = 0.0\n",
        "        print(\"Normalized confusion matrix\")\n",
        "    else:\n",
        "        print('Confusion matrix, without normalization')\n",
        "    thresh = cm.max() / 2.\n",
        "    for i, j in itertools.product(range(cm.shape[0]), range(cm.shape[1])):\n",
        "        plt.text(j, i, cm[i, j],\n",
        "                 horizontalalignment=\"center\",\n",
        "                 color=\"white\" if cm[i, j] > thresh else \"black\")\n",
        "    plt.tight_layout()\n",
        "    plt.ylabel('True label')\n",
        "    plt.xlabel('Predicted label')\n",
        "#Print the Target names\n",
        "import warnings\n",
        "warnings.filterwarnings('ignore')\n",
        "from sklearn.metrics import classification_report, confusion_matrix\n",
        "import itertools \n",
        "#shuffle=False\n",
        "target_names = []\n",
        "for key in train_generator.class_indices:\n",
        "    target_names.append(key)\n",
        "# print(target_names)\n",
        "#Confution Matrix\n",
        "Y_pred = model_dw.predict_generator(test_generator)\n",
        "y_pred = np.argmax(Y_pred, axis=1)\n",
        "print(test_generator.classes,y_pred)\n",
        "print('Confusion Matrix')\n",
        "cm = confusion_matrix(test_generator.classes, y_pred)\n",
        "plot_confusion_matrix(cm, target_names, title='Confusion Matrix')\n",
        "#Print Classification Report\n",
        "print('Classification Report')\n",
        "print(classification_report(test_generator.classes, y_pred, target_names=target_names))\n",
        "\n",
        "from sklearn.metrics import precision_score,recall_score,f1_score\n",
        "precision= precision_score(test_generator.classes, y_pred)\n",
        "recall= recall_score(test_generator.classes, y_pred)\n",
        "print('Precision: %.3f' % precision_score(test_generator.classes, y_pred))\n",
        "print('Recall: %.3f' % recall_score(test_generator.classes, y_pred))\n",
        "batch_size=32\n",
        "test_score = model_dw.evaluate_generator(test_generator, batch_size)\n",
        "print(\"accuracy: {:.2f}%\".format(test_score[1] * 100))\n",
        "print(\"Loss: \",test_score[0])\n",
        "print(\"f1 score : \",f1_score(test_generator.classes, y_pred))\n",
        "sensitivity1 = cm[0,0]/(cm[0,0]+cm[0,1])\n",
        "print('Sensitivity : ', sensitivity1 )\n",
        "specificity1 = cm[1,1]/(cm[1,0]+cm[1,1])\n",
        "print('Specificity : ', specificity1)"
      ]
    },
    {
      "cell_type": "code",
      "execution_count": null,
      "id": "d08870a3",
      "metadata": {
        "id": "d08870a3"
      },
      "outputs": [],
      "source": [
        ""
      ]
    }
  ],
  "metadata": {
    "kernelspec": {
      "display_name": "Python 3 (ipykernel)",
      "language": "python",
      "name": "python3"
    },
    "language_info": {
      "codemirror_mode": {
        "name": "ipython",
        "version": 3
      },
      "file_extension": ".py",
      "mimetype": "text/x-python",
      "name": "python",
      "nbconvert_exporter": "python",
      "pygments_lexer": "ipython3",
      "version": "3.8.8"
    },
    "colab": {
      "name": "minorprojectkfold.ipynb",
      "provenance": [],
      "collapsed_sections": []
    },
    "accelerator": "GPU"
  },
  "nbformat": 4,
  "nbformat_minor": 5
}